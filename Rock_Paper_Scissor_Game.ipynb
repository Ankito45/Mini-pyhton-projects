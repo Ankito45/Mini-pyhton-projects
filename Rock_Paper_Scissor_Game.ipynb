{
 "cells": [
  {
   "cell_type": "code",
   "execution_count": 21,
   "id": "1693db1d-2a4c-4a5b-9093-a448e49bbe25",
   "metadata": {},
   "outputs": [
    {
     "name": "stdin",
     "output_type": "stream",
     "text": [
      "Enter your move (Rock, Paper, Scissor):  Paper\n"
     ]
    },
    {
     "name": "stdout",
     "output_type": "stream",
     "text": [
      "User Choice = Paper, \n",
      "Computer Choice = Rock\n",
      "Paper covers Rock = User Win👍👍\n"
     ]
    }
   ],
   "source": [
    "import random\n",
    "item_list = [\"Rock\", \"Paper\", \"Scissor\"]\n",
    "\n",
    "user_choice = input(\"Enter your move (Rock, Paper, Scissor): \")\n",
    "\n",
    "if user_choice not in item_list:\n",
    "    print(\"Invalid choice. Please enter Rock, Paper, or Scissor.\")\n",
    "else:\n",
    "    comp_choice = random.choice(item_list)\n",
    "    print(f\"User Choice = {user_choice}, \\nComputer Choice = {comp_choice}\")\n",
    "\n",
    "    if user_choice == comp_choice:\n",
    "        print(\"Both choose the same: Match Tie...\")\n",
    "    elif user_choice == \"Rock\":\n",
    "        if comp_choice == \"Paper\":\n",
    "            print(\"Paper covers Rock = Computer Win👍👍\")\n",
    "        else:\n",
    "            print(\"Rock smashes Scissor = User Win👍👍\")\n",
    "   \n",
    "        if comp_choice == \"Scissors\":\n",
    "            print(\"Scissors cuts Paper = Computer Win👍👍\")\n",
    "        else:\n",
    "            print(\"Paper covers Rock = User Win👍👍\")\n",
    "    \n",
    "    elif user_choice == \"Scissors\":\n",
    "        if comp_choice == \"Rock\":\n",
    "            print(\"Rock smashes Scissors = Computer Win👍👍\")\n",
    "        else:\n",
    "            print(\"Scissors cuts Paper = User Win👍👍\")"
   ]
  },
  {
   "cell_type": "code",
   "execution_count": null,
   "id": "c1a3454d-e32b-45f7-97d3-c20e7f4236d8",
   "metadata": {},
   "outputs": [],
   "source": []
  }
 ],
 "metadata": {
  "kernelspec": {
   "display_name": "Python 3 (ipykernel)",
   "language": "python",
   "name": "python3"
  },
  "language_info": {
   "codemirror_mode": {
    "name": "ipython",
    "version": 3
   },
   "file_extension": ".py",
   "mimetype": "text/x-python",
   "name": "python",
   "nbconvert_exporter": "python",
   "pygments_lexer": "ipython3",
   "version": "3.12.4"
  }
 },
 "nbformat": 4,
 "nbformat_minor": 5
}
