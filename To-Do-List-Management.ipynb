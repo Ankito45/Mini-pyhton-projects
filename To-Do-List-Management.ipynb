{
 "cells": [
  {
   "cell_type": "code",
   "execution_count": 8,
   "id": "be00aa19-4887-4b56-a328-7e0b2bfd2253",
   "metadata": {},
   "outputs": [
    {
     "name": "stdout",
     "output_type": "stream",
     "text": [
      "----------WELCOME TO MY TO DO MANAGEMENT WEB-------------\n"
     ]
    },
    {
     "name": "stdin",
     "output_type": "stream",
     "text": [
      "Enter how many tasks you want to do :  5\n",
      "Enter task 0 wat\n",
      "Enter task 1 sleep\n",
      "Enter task 2 code\n",
      "Enter task 3 repaet\n",
      "Enter task 4 sleep\n"
     ]
    },
    {
     "name": "stdout",
     "output_type": "stream",
     "text": [
      "Today tasks are\n",
      "['wat', 'sleep', 'code', 'repaet', 'sleep']\n"
     ]
    },
    {
     "name": "stdin",
     "output_type": "stream",
     "text": [
      "Enter \n",
      "1-Add\n",
      "2-Update\n",
      "3-Delete\n",
      "4-View\n",
      "5-Exit 5\n"
     ]
    },
    {
     "name": "stdout",
     "output_type": "stream",
     "text": [
      "Closing the program .......\n",
      "None\n"
     ]
    }
   ],
   "source": [
    "def task():\n",
    "    tasks = [] # defined a empty list to store all the task defined by user\n",
    "    print(\"----------WELCOME TO MY TO DO MANAGEMENT WEB-------------\")\n",
    "\n",
    "    total_task = int(input(\"Enter how many tasks you want to do : \"))\n",
    "    for i in range(1,total_task+1):\n",
    "        task_name = input(f\"Enter task {i}\") \n",
    "        tasks.append(task_name)\n",
    "\n",
    "    print(f\"Today tasks are\\n{tasks}\")\n",
    "\n",
    "    while True:\n",
    "        operation = int(input(\"Enter \\n1-Add\\n2-Update\\n3-Delete\\n4-View\\n5-Exit\"))\n",
    "        if operation == 1:\n",
    "            add = input(\"Enter the task you want to Add : \")\n",
    "            tasks.append(add)\n",
    "            print(f\"Task {add} has been successfully added ......\")\n",
    "            \n",
    "        elif operation == 2:\n",
    "            updated_val = input(\"Enter the task you want to Update : \")\n",
    "            if updated_val in tasks:\n",
    "                new_task = input(\"Enter new tasks = \")\n",
    "                ind = tasks.index(updated_val)\n",
    "                tasks[ind] = new_task\n",
    "                print(f\"Updated task {new_task} .....\")\n",
    "                \n",
    "        elif operation == 3:\n",
    "            del_val = input(\"Enter the task you want to delete : \")\n",
    "            if del_val in tasks:\n",
    "                ind = tasks.index(del_val)\n",
    "                del tasks[ind]\n",
    "                print(f\"Task {del_val} is deleted successfully .........\")\n",
    "                \n",
    "        elif operation == 4:\n",
    "            print(f\"Total tasks are {tasks}\")\n",
    "\n",
    "        elif operation == 5:\n",
    "            print(\"Closing the program .......\")\n",
    "            break\n",
    "\n",
    "        else:\n",
    "            print(\"Invalid input\")\n",
    "\n",
    "T = task()\n",
    "print(T)"
   ]
  },
  {
   "cell_type": "code",
   "execution_count": null,
   "id": "6adc704b-e0e7-4b70-be82-da654cde9ab6",
   "metadata": {},
   "outputs": [],
   "source": []
  }
 ],
 "metadata": {
  "kernelspec": {
   "display_name": "Python 3 (ipykernel)",
   "language": "python",
   "name": "python3"
  },
  "language_info": {
   "codemirror_mode": {
    "name": "ipython",
    "version": 3
   },
   "file_extension": ".py",
   "mimetype": "text/x-python",
   "name": "python",
   "nbconvert_exporter": "python",
   "pygments_lexer": "ipython3",
   "version": "3.12.4"
  }
 },
 "nbformat": 4,
 "nbformat_minor": 5
}
