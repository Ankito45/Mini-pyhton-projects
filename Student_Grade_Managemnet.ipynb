{
 "cells": [
  {
   "cell_type": "code",
   "execution_count": null,
   "id": "ab544ab2-c155-4797-b8ee-64d0fb3b014b",
   "metadata": {},
   "outputs": [
    {
     "name": "stdout",
     "output_type": "stream",
     "text": [
      "----------WELCOME TO STUDENT GRADE MANAGEMENT SYSTEM-------------\n"
     ]
    },
    {
     "name": "stdin",
     "output_type": "stream",
     "text": [
      "Enter \n",
      "1-Add Student\n",
      "2-Update Student\n",
      "3-Delete Student\n",
      "4-View Student\n",
      "5-Exit 1\n",
      "Enter Student name :  Ankit\n",
      "Enter Student grade :  A\n"
     ]
    },
    {
     "name": "stdout",
     "output_type": "stream",
     "text": [
      " Successfully Added Ankit with grade A.......\n"
     ]
    },
    {
     "name": "stdin",
     "output_type": "stream",
     "text": [
      "Enter \n",
      "1-Add Student\n",
      "2-Update Student\n",
      "3-Delete Student\n",
      "4-View Student\n",
      "5-Exit 1\n",
      "Enter Student name :  Arpit\n",
      "Enter Student grade :  O\n"
     ]
    },
    {
     "name": "stdout",
     "output_type": "stream",
     "text": [
      " Successfully Added Arpit with grade O.......\n"
     ]
    },
    {
     "name": "stdin",
     "output_type": "stream",
     "text": [
      "Enter \n",
      "1-Add Student\n",
      "2-Update Student\n",
      "3-Delete Student\n",
      "4-View Student\n",
      "5-Exit 3\n",
      "Enter the student to delete :  wd\n"
     ]
    },
    {
     "name": "stdout",
     "output_type": "stream",
     "text": [
      "Enter valid Student name : \n"
     ]
    },
    {
     "name": "stdin",
     "output_type": "stream",
     "text": [
      "Enter \n",
      "1-Add Student\n",
      "2-Update Student\n",
      "3-Delete Student\n",
      "4-View Student\n",
      "5-Exit 2\n",
      "Enter the student to update :  fqeifgh\n"
     ]
    },
    {
     "name": "stdout",
     "output_type": "stream",
     "text": [
      "Enter valid Student name : 😂😂😂\n"
     ]
    }
   ],
   "source": [
    "def grade():\n",
    "    grade = {}\n",
    "    print(\"----------WELCOME TO STUDENT GRADE MANAGEMENT SYSTEM-------------\")\n",
    "\n",
    "    while True:\n",
    "        operation = int(input(\"Enter \\n1-Add Student\\n2-Update Student\\n3-Delete Student\\n4-View Student\\n5-Exit\"))\n",
    "        if operation == 1:\n",
    "            add_student = input(\"Enter Student name : \")\n",
    "            add_grade = input(\"Enter Student grade : \")\n",
    "            grade[add_student] = add_grade\n",
    "            print(f\" Successfully Added {add_student} with grade {add_grade}.......\")\n",
    "\n",
    "        elif operation == 2:\n",
    "            update_student = input(\"Enter the student to update : \")\n",
    "            if update_student in grade:  # Check if the student exists\n",
    "                new_grade = input(\"Enter the new grade: \")\n",
    "                grade[update_student] = new_grade  # Update the student's grade\n",
    "                print(f\"Grade for {update_student} updated successfully.\")\n",
    "                \n",
    "            else:\n",
    "                print(\"Enter valid Student name 😂😂😂\")\n",
    "\n",
    "        elif operation == 3:\n",
    "            del_val = input(\"Enter the student to delete : \")\n",
    "            if del_val in grade:\n",
    "                del grade[del_val]\n",
    "                print(f\"Student '{del_val}' deleted successfully.\")\n",
    "            else:\n",
    "                print(\"Enter valid Student name 😂😂😂 \")\n",
    "\n",
    "        elif operation == 4:\n",
    "            print(f\"Total class marks are\\n{grade}\")\n",
    "\n",
    "        elif operation == 5:\n",
    "            print(\"Closing the Program\")\n",
    "\n",
    "        else:\n",
    "            print(\"Invalid Input !!! Enter a valid Input\")\n",
    "G = grade()\n",
    "print(G)"
   ]
  },
  {
   "cell_type": "code",
   "execution_count": null,
   "id": "f5199e05-5ab2-46c9-bd34-f5e85aaf5eff",
   "metadata": {},
   "outputs": [],
   "source": []
  }
 ],
 "metadata": {
  "kernelspec": {
   "display_name": "Python 3 (ipykernel)",
   "language": "python",
   "name": "python3"
  },
  "language_info": {
   "codemirror_mode": {
    "name": "ipython",
    "version": 3
   },
   "file_extension": ".py",
   "mimetype": "text/x-python",
   "name": "python",
   "nbconvert_exporter": "python",
   "pygments_lexer": "ipython3",
   "version": "3.12.4"
  }
 },
 "nbformat": 4,
 "nbformat_minor": 5
}
